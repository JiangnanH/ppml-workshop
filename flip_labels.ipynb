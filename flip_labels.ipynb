{
 "cells": [
  {
   "cell_type": "code",
   "execution_count": 11,
   "metadata": {},
   "outputs": [],
   "source": [
    "import numpy as np\n",
    "import os # for reading files in directory\n",
    "import pickle as pkl # for dumping weights"
   ]
  },
  {
   "cell_type": "code",
   "execution_count": 3,
   "metadata": {},
   "outputs": [
    {
     "name": "stdout",
     "output_type": "stream",
     "text": [
      "adult.ipynb\t\t\t   plotting_results.ipynb\r\n",
      "Adult.pickle\t\t\t   __pycache__\r\n",
      "adult.py\t\t\t   qmnist\r\n",
      "defender_idx.pickle\t\t   QMNIST_ppml.pickle\r\n",
      "distances.ipynb\t\t\t   QMNIST_tabular_ppml.pickle\r\n",
      "distances-overfit.ipynb\t\t   requirements.txt\r\n",
      "explore_QMNIST_ppml.ipynb\t   reserve_idx.pickle\r\n",
      "feature_extraction_qmnist_ppml.py  simple_fn_keras.py\r\n",
      "flip_labels.ipynb\t\t   split_qmnist_ppml.py\r\n",
      "Jiangnan_Oracle_attacker.ipynb\t   torchvision_QMNIST.ipynb\r\n",
      "myNN.py\t\t\t\t   utils.py\r\n",
      "nn_dict.pickle\t\t\t   x_defender.pickle\r\n",
      "nn_qmnist.py\t\t\t   x_reserve.pickle\r\n",
      "PA2_Pedersen_Joseph_ECSE6850.py    y_defender.pickle\r\n",
      "PA3_Joseph_Pedersen_ECSE6850.py    y_reserve.pickle\r\n"
     ]
    }
   ],
   "source": [
    "!ls"
   ]
  },
  {
   "cell_type": "code",
   "execution_count": 4,
   "metadata": {},
   "outputs": [
    {
     "name": "stdout",
     "output_type": "stream",
     "text": [
      "(200000, 10)\n",
      "(202953, 10)\n"
     ]
    }
   ],
   "source": [
    "with open('y_defender.pickle', 'rb') as f:\n",
    "    y_defender = pkl.load(f)\n",
    "print(y_defender.shape)\n",
    "\n",
    "with open('y_reserve.pickle', 'rb') as f:\n",
    "    y_reserve = pkl.load(f)\n",
    "print(y_reserve.shape)"
   ]
  },
  {
   "cell_type": "code",
   "execution_count": 5,
   "metadata": {},
   "outputs": [
    {
     "data": {
      "text/plain": [
       "array([0., 0., 0., 0., 1., 0., 0., 0., 0., 0.], dtype=float32)"
      ]
     },
     "execution_count": 5,
     "metadata": {},
     "output_type": "execute_result"
    }
   ],
   "source": [
    "y_defender[0,:]"
   ]
  },
  {
   "cell_type": "code",
   "execution_count": 7,
   "metadata": {},
   "outputs": [
    {
     "data": {
      "text/plain": [
       "array([0, 1, 2, 3, 5, 6, 7, 8, 9])"
      ]
     },
     "execution_count": 7,
     "metadata": {},
     "output_type": "execute_result"
    }
   ],
   "source": [
    "np.where(y_defender[0,:] == 0)[0]"
   ]
  },
  {
   "cell_type": "code",
   "execution_count": 10,
   "metadata": {},
   "outputs": [
    {
     "data": {
      "text/plain": [
       "1"
      ]
     },
     "execution_count": 10,
     "metadata": {},
     "output_type": "execute_result"
    }
   ],
   "source": [
    "np.random.choice(np.where(y_defender[0,:] == 0)[0])"
   ]
  },
  {
   "cell_type": "code",
   "execution_count": 13,
   "metadata": {},
   "outputs": [],
   "source": [
    "# Randomly selecting labels to flip\n",
    "#rng = np.random.RandomState(2021)\n",
    "#defender_flip_idx = rng.choice(400,size=80, replace=False)\n",
    "#reserve_flip_idx = rng.choice(400,size=80, replace=False)\n",
    "\n",
    "# And what to flip them to\n",
    "#defender_add_mod = np.random.randint(low=0,high=9,size=80) + 1\n",
    "#reserve_add_mod = np.random.randint(low=0,high=9,size=80) + 1\n",
    "\n",
    "# save\n",
    "#with open('defender_flip_idx.pickle', 'wb') as f:\n",
    "#    pkl.dump(defender_flip_idx, f)\n",
    "#with open('reserve_flip_idx.pickle', 'wb') as f:\n",
    "#    pkl.dump(reserve_flip_idx, f)\n",
    "#with open('defender_add_mod.pickle', 'wb') as f:\n",
    "#    pkl.dump(defender_add_mod, f)\n",
    "#with open('reserve_add_mod.pickle', 'wb') as f:\n",
    "#    pkl.dump(reserve_add_mod, f)"
   ]
  },
  {
   "cell_type": "code",
   "execution_count": 14,
   "metadata": {},
   "outputs": [],
   "source": [
    "y_defender_flipped = y_defender.copy()\n",
    "\n",
    "for i, val in enumerate(defender_flip_idx):\n",
    "    old_lbl = np.argmax(y_defender[val,:])\n",
    "    new_lbl = ( (old_lbl + defender_add_mod[i]) % 10 )\n",
    "    if old_lbl == new_lbl: print(\"ERROR!\")\n",
    "    y_defender_flipped[val,old_lbl] = 0\n",
    "    y_defender_flipped[val,new_lbl] = 1"
   ]
  },
  {
   "cell_type": "code",
   "execution_count": 15,
   "metadata": {},
   "outputs": [],
   "source": [
    "y_reserve_flipped = y_reserve.copy()\n",
    "\n",
    "for i, val in enumerate(reserve_flip_idx):\n",
    "    old_lbl = np.argmax(y_reserve[val,:])\n",
    "    new_lbl = ( (old_lbl + reserve_add_mod[i]) % 10 )\n",
    "    if old_lbl == new_lbl: print(\"ERROR!\")\n",
    "    y_reserve_flipped[val,old_lbl] = 0\n",
    "    y_reserve_flipped[val,new_lbl] = 1"
   ]
  },
  {
   "cell_type": "code",
   "execution_count": 16,
   "metadata": {},
   "outputs": [],
   "source": [
    "# save\n",
    "with open('y_defender_flipped.pickle', 'wb') as f:\n",
    "    pkl.dump(y_defender_flipped, f)\n",
    "with open('y_reserve_flipped.pickle', 'wb') as f:\n",
    "    pkl.dump(y_reserve_flipped, f)"
   ]
  },
  {
   "cell_type": "code",
   "execution_count": 17,
   "metadata": {},
   "outputs": [
    {
     "name": "stdout",
     "output_type": "stream",
     "text": [
      "0.0\n",
      "1.0\n",
      "0.0\n",
      "1.0\n"
     ]
    }
   ],
   "source": [
    "print(np.min(y_defender_flipped))\n",
    "print(np.max(y_defender_flipped))\n",
    "print(np.min(y_reserve_flipped))\n",
    "print(np.max(y_reserve_flipped))"
   ]
  },
  {
   "cell_type": "code",
   "execution_count": 19,
   "metadata": {},
   "outputs": [
    {
     "name": "stdout",
     "output_type": "stream",
     "text": [
      "1.0\n",
      "1.0\n",
      "1.0\n",
      "1.0\n"
     ]
    }
   ],
   "source": [
    "print(np.min(y_defender_flipped.sum(axis=1)))\n",
    "print(np.max(y_defender_flipped.sum(axis=1)))\n",
    "print(np.min(y_reserve_flipped.sum(axis=1)))\n",
    "print(np.max(y_reserve_flipped.sum(axis=1)))"
   ]
  },
  {
   "cell_type": "code",
   "execution_count": null,
   "metadata": {},
   "outputs": [],
   "source": []
  },
  {
   "cell_type": "code",
   "execution_count": null,
   "metadata": {},
   "outputs": [],
   "source": []
  },
  {
   "cell_type": "code",
   "execution_count": null,
   "metadata": {},
   "outputs": [],
   "source": []
  }
 ],
 "metadata": {
  "kernelspec": {
   "display_name": "Python [conda env:joe_env]",
   "language": "python",
   "name": "conda-env-joe_env-py"
  },
  "language_info": {
   "codemirror_mode": {
    "name": "ipython",
    "version": 3
   },
   "file_extension": ".py",
   "mimetype": "text/x-python",
   "name": "python",
   "nbconvert_exporter": "python",
   "pygments_lexer": "ipython3",
   "version": "3.8.10"
  }
 },
 "nbformat": 4,
 "nbformat_minor": 2
}
