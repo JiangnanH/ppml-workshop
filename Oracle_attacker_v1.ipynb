
{
 "cells": [
  {
   "cell_type": "markdown",
   "metadata": {},
   "source": [
    "# Requirement:\n",
    "- numpy 1.19.5\n",
    "- tensorflow 2.5.0\n",
    "- tensorflow_privacy 0.6.1\n",
    "- sklearn 0.24.2\n",
    "\n",
    "Before performing the experiments, you need to fit the **pickle_file**(path for tabular QMNIST data) according to your own PC."
   ]
  },
  {
   "cell_type": "code",
   "execution_count": 1,
   "metadata": {
    "id": "iYdgdZMocHNk"
   },
   "outputs": [],
   "source": [
    "import numpy as np\n",
    "\n",
    "import pickle\n",
    "import tensorflow as tf\n",
    "from tensorflow.keras import layers\n",
    "import random as python_random\n",
    "\n",
    "from sklearn.model_selection import train_test_split"
   ]
  },
  {
   "cell_type": "markdown",
   "metadata": {
    "id": "xuMDw0xmAH-d"
   },
   "source": [
    "# Load QMNIST data."
   ]
  },
  {
   "cell_type": "code",
   "execution_count": 2,
   "metadata": {
    "colab": {
     "base_uri": "https://localhost:8080/"
    },
    "id": "yOBOLaM6ghKD",
    "outputId": "4191ad8b-6f65-4ad6-87e6-fc1d695cb81a"
   },
   "outputs": [
    {
     "name": "stdout",
     "output_type": "stream",
     "text": [
      "Data loaded.\n"
     ]
    }
   ],
   "source": [
    "pickle_file = '/home/jiangnan/Desktop/ppml-workshop/data/QMNIST_tabular_ppml.pickle'\n",
    "\n",
    "with open(pickle_file, 'rb') as f:\n",
    "  pickle_data = pickle.load(f)\n",
    "  x_defender = pickle_data['x_defender']\n",
    "  x_reserve = pickle_data['x_reserve']\n",
    "  y_defender = pickle_data['y_defender']\n",
    "  y_reserve = pickle_data['y_reserve']\n",
    "  del pickle_data\n",
    "print('Data loaded.')"
   ]
  },
  {
   "cell_type": "code",
   "execution_count": 3,
   "metadata": {
    "id": "qW1n24bvs6nP"
   },
   "outputs": [],
   "source": [
    "NUM_CLASSES = 10\n",
    "\n",
    "y_defender = y_defender[:,0]\n",
    "y_reserve = y_reserve[:,0]\n",
    "\n",
    "#y_defender = np.expand_dims(y_defender,axis=1)\n",
    "#y_reserve = np.expand_dims(y_reserve,axis=1)\n",
    "\n",
    "#y_defender = tf.keras.utils.to_categorical(y_defender, num_classes=NUM_CLASSES)\n",
    "#y_reserve = tf.keras.utils.to_categorical(y_reserve, num_classes=NUM_CLASSES)"
   ]
  },
  {
   "cell_type": "markdown",
   "metadata": {
    "id": "8TfaWzhkATJq"
   },
   "source": [
    "# Defender model $M_D$\n",
    "\n",
    "import the defender model which need to be tested."
   ]
  },
  {
   "cell_type": "code",
   "execution_count": 4,
   "metadata": {
    "id": "WjQgTR5vcerZ"
   },
   "outputs": [],
   "source": [
    "from sklearn.naive_bayes import GaussianNB\n",
    "\n",
    "def defender_model_fn():\n",
    "    \"\"\"The architecture of the defender (victim) model.\n",
    "    The attack is white-box, hence the attacker is assumed to know this architecture too.\"\"\"\n",
    "\n",
    "    model = GaussianNB()\n",
    "\n",
    "    return model"
   ]
  },
  {
   "cell_type": "markdown",
   "metadata": {
    "id": "dbNvGhsvAwUX"
   },
   "source": [
    "## Train $M_D$ "
   ]
  },
  {
   "cell_type": "code",
   "execution_count": 197,
   "metadata": {},
   "outputs": [],
   "source": [
    "number_records = [48, 100, 200, 400, 800, 1600, 3200, 6400, 12800, 25600, 51200, 102400, 200000]\n",
    "\n",
    "N_RECORDS = 0\n",
    "number_records_used = number_records[N_RECORDS]\n",
    "\n",
    "data_in = x_defender[:number_records_used], y_defender[:number_records_used]\n",
    "data_out = x_reserve[:number_records_used], y_reserve[:number_records_used]"
   ]
  },
  {
   "cell_type": "code",
   "execution_count": 198,
   "metadata": {},
   "outputs": [],
   "source": [
    "#defender_model_path = '/home/jiangnan/Desktop/ppml-workshop/defender_trained_models/simple_fn_48examples'\n",
    "#defender_model = tf.keras.models.load_model(defender_model_path)"
   ]
  },
  {
   "cell_type": "code",
   "execution_count": 199,
   "metadata": {},
   "outputs": [
    {
     "data": {
      "text/plain": [
       "GaussianNB()"
      ]
     },
     "execution_count": 199,
     "metadata": {},
     "output_type": "execute_result"
    }
   ],
   "source": [
    "defender_model = defender_model_fn()\n",
    "defender_model.fit(data_in[0],data_in[1])"
   ]
  },
  {
   "cell_type": "markdown",
   "metadata": {
    "id": "BF8tOx1gArS0"
   },
   "source": [
    "## Evaluate the utility of $M_D$ on utility evaluation dataset $E_U$ (which is equal to reserve dataset $R$).\n",
    "\n",
    "Evaluation metrics: **Accuracy** & **AUC**"
   ]
  },
  {
   "cell_type": "code",
   "execution_count": 200,
   "metadata": {
    "id": "dMQi7hGSGQZL"
   },
   "outputs": [],
   "source": [
    "from sklearn import metrics\n",
    "from sklearn.metrics import log_loss\n",
    "from sklearn.metrics import accuracy_score\n",
    "from sklearn.metrics.pairwise import euclidean_distances"
   ]
  },
  {
   "cell_type": "code",
   "execution_count": 201,
   "metadata": {
    "colab": {
     "base_uri": "https://localhost:8080/"
    },
    "id": "mzjsUgxj-DSH",
    "outputId": "26a1e0b9-deba-4557-8caa-a4e77a7b413b"
   },
   "outputs": [],
   "source": [
    "predict_reserve_proba = defender_model.predict_proba(data_out[0])\n",
    "predict_reserve = np.argmax(predict_reserve_proba, axis=1)\n",
    "acc = accuracy_score(data_out[1], predict_reserve)\n",
    "#loss = log_loss(data_out[1], predict_reserve_proba)"
   ]
  },
  {
   "cell_type": "code",
   "execution_count": 202,
   "metadata": {
    "id": "kMPG56kw6JDi"
   },
   "outputs": [],
   "source": [
    "auc_by_class = []\n",
    "\n",
    "# compute auc per class then take the average value\n",
    "for i in range(NUM_CLASSES):\n",
    "  class_indices = data_out[1] == i\n",
    "  if np.sum(class_indices) == 0:\n",
    "        continue\n",
    "  fpr, tpr, thresholds = metrics.roc_curve(class_indices, predict_reserve_proba[:,i])\n",
    "  auc = metrics.auc(fpr, tpr)\n",
    "  auc_by_class.append(auc)\n",
    "\n",
    "average_auc = np.mean(auc_by_class)"
   ]
  },
  {
   "cell_type": "code",
   "execution_count": 203,
   "metadata": {
    "colab": {
     "base_uri": "https://localhost:8080/"
    },
    "id": "a_Rkks7XCdxd",
    "outputId": "5a4d28bb-2102-482b-887e-95b82ec5cb5e"
   },
   "outputs": [
    {
     "name": "stdout",
     "output_type": "stream",
     "text": [
      "Utility of defender model:\n",
      "Acc: 0.6666666666666666\n",
      "Auc: 0.7689347200700154\n"
     ]
    }
   ],
   "source": [
    "print('Utility of defender model:')\n",
    "print('Acc: {}'.format(acc))\n",
    "print('Auc: {}'.format(average_auc))\n",
    "#print('Loss: {}'.format(loss))"
   ]
  },
  {
   "cell_type": "code",
   "execution_count": 204,
   "metadata": {},
   "outputs": [
    {
     "name": "stdout",
     "output_type": "stream",
     "text": [
      "Defender model utility: 0.5378694401400308\n"
     ]
    }
   ],
   "source": [
    "utility = max(2*average_auc -1,0)\n",
    "print('Defender model utility: {}'.format(utility))"
   ]
  },
  {
   "cell_type": "markdown",
   "metadata": {
    "id": "LZg1y29Y_-bp"
   },
   "source": [
    "# Oracle attack model $M_A$"
   ]
  },
  {
   "cell_type": "code",
   "execution_count": 205,
   "metadata": {
    "id": "utePp7mWuXNy"
   },
   "outputs": [],
   "source": [
    "import random\n",
    "from tqdm import tqdm"
   ]
  },
  {
   "cell_type": "code",
   "execution_count": 228,
   "metadata": {},
   "outputs": [],
   "source": [
    "def create_mock_defender_models(defender = defender_model, data_in = data_in, data_out = data_out, n_records = 48, random_select = True, n_extract = 100, given_index = False):\n",
    "    \n",
    "    similarities_in = []\n",
    "    similarities_out = []\n",
    "    \n",
    "    number_loop = 0\n",
    "    \n",
    "    if random_select == True:\n",
    "        number_loop = n_extract\n",
    "    else:\n",
    "        number_loop = data_in[0].shape[0]\n",
    "        \n",
    "    for i in tqdm(range(number_loop)):\n",
    "\n",
    "        if random_select == True:\n",
    "            index = random.randint(0,n_records-1)\n",
    "        else:\n",
    "            index = i\n",
    "\n",
    "        evaluation_data_in = data_in[0][index]\n",
    "        evaluation_label_in = data_in[1][index]\n",
    "\n",
    "        evaluation_data_out = data_out[0][index]\n",
    "        evaluation_label_out = data_out[1][index]\n",
    "\n",
    "        evaluation_data = np.array([evaluation_data_in, evaluation_data_out])\n",
    "        evaluation_label = np.array([evaluation_label_in, evaluation_label_out])\n",
    "\n",
    "        evaluation = evaluation_data, evaluation_label\n",
    "\n",
    "\n",
    "        attack_train_data_in = np.delete(data_in[0], index, axis=0)\n",
    "        attack_train_label_in = np.delete(data_in[1], index, axis=0)\n",
    "\n",
    "        attack_in = attack_train_data_in, attack_train_label_in\n",
    "\n",
    "\n",
    "        attack_train_data_out = np.delete(data_out[0], index, axis=0)\n",
    "        attack_train_label_out = np.delete(data_out[1], index, axis=0)\n",
    "\n",
    "        attack_out = attack_train_data_out, attack_train_label_out\n",
    "\n",
    "\n",
    "        predict = defender_model.predict_log_proba(attack_in[0])\n",
    "\n",
    "        \n",
    "        if given_index == True:\n",
    "\n",
    "            attack_in_plus_one_in = np.insert(attack_in[0], index, evaluation[0][0].reshape(1,attack_in[0].shape[1]), axis=0), np.insert(attack_in[1], index, evaluation[1][0], axis=0)\n",
    "            attack_in_plus_one_out = np.insert(attack_in[0], index, evaluation[0][1].reshape(1,attack_in[0].shape[1]), axis=0), np.insert(attack_in[1], index, evaluation[1][1], axis=0)\n",
    "\n",
    "        else:\n",
    "\n",
    "            attack_in_plus_one_in = np.vstack((evaluation[0][0].reshape(1,attack_in[0].shape[1]),attack_in[0])), np.hstack(( evaluation[1][0],attack_in[1]))\n",
    "            attack_in_plus_one_out = np.vstack((evaluation[0][1].reshape(1,attack_in[0].shape[1]),attack_in[0])), np.hstack(( evaluation[1][1],attack_in[1]))\n",
    "\n",
    "        \n",
    "        M_cD_in = defender_model_fn()\n",
    "        M_cD_out = defender_model_fn()\n",
    "\n",
    "        M_cD_in.fit(attack_in_plus_one_in[0], attack_in_plus_one_in[1])\n",
    "        M_cD_out.fit(attack_in_plus_one_out[0], attack_in_plus_one_out[1])\n",
    "\n",
    "        M_cD_in_predict = M_cD_in.predict_log_proba(attack_in[0])\n",
    "        M_cD_out_predict = M_cD_out.predict_log_proba(attack_in[0])\n",
    "\n",
    "        similarity_in = np.mean(np.linalg.norm(M_cD_in_predict-predict, axis=1))\n",
    "        similarity_out = np.mean(np.linalg.norm(M_cD_out_predict-predict, axis=1))\n",
    "\n",
    "        similarities_in.append(similarity_in)\n",
    "        similarities_out.append(similarity_out)\n",
    "    \n",
    "    return similarities_in, similarities_out\n"
   ]
  },
  {
   "cell_type": "code",
   "execution_count": null,
   "metadata": {},
   "outputs": [],
   "source": [
    "n_records = number_records[N_RECORDS]\n",
    "random_select = False\n",
    "n_extract = 100\n",
    "given_index = False\n",
    "\n",
    "similarities_in, similarities_out = create_mock_defender_models(defender = defender_model,\n",
    "                                                                data_in = data_in,\n",
    "                                                                data_out = data_out,\n",
    "                                                                n_records = n_records,\n",
    "                                                                random_select = random_select,\n",
    "                                                                n_extract = n_extract,\n",
    "                                                                given_index = given_index)"
   ]
  },
  {
   "cell_type": "code",
   "execution_count": 229,
   "metadata": {},
   "outputs": [
    {
     "name": "stderr",
     "output_type": "stream",
     "text": [
      "100%|██████████| 48/48 [00:00<00:00, 144.85it/s]\n",
      "100%|██████████| 100/100 [00:01<00:00, 92.23it/s]\n",
      "100%|██████████| 200/200 [00:03<00:00, 58.22it/s]\n",
      "100%|██████████| 400/400 [00:13<00:00, 28.71it/s]\n",
      "100%|██████████| 800/800 [00:59<00:00, 13.45it/s]\n",
      "100%|██████████| 1600/1600 [04:02<00:00,  6.60it/s]\n",
      "100%|██████████| 3200/3200 [15:44<00:00,  3.39it/s]\n",
      "100%|██████████| 6400/6400 [1:12:54<00:00,  1.46it/s]\n"
     ]
    }
   ],
   "source": [
    "random_select = False\n",
    "n_extract = 100\n",
    "given_index = False\n",
    "\n",
    "similarities_in_all = []\n",
    "similarities_out_all = []\n",
    "\n",
    "number_records = [48, 100, 200, 400, 800, 1600, 3200, 6400]\n",
    "\n",
    "for n_records in number_records:\n",
    "    \n",
    "    data_in = x_defender[:n_records], y_defender[:n_records]\n",
    "    data_out = x_reserve[:n_records], y_reserve[:n_records]\n",
    "    defender_model = defender_model_fn()\n",
    "    defender_model.fit(data_in[0],data_in[1])\n",
    "    \n",
    "    similarities_in, similarities_out = create_mock_defender_models(defender = defender_model,\n",
    "                                                                    data_in = data_in,\n",
    "                                                                    data_out = data_out,\n",
    "                                                                    n_records = n_records,\n",
    "                                                                    random_select = random_select,\n",
    "                                                                    n_extract = n_extract,\n",
    "                                                                    given_index = given_index)\n",
    "    \n",
    "    similarities_in_all.append(similarities_in)\n",
    "    similarities_out_all.append(similarities_out)"
   ]
  },
  {
   "cell_type": "code",
   "execution_count": 234,
   "metadata": {},
   "outputs": [],
   "source": [
    "utility_all = []\n",
    "\n",
    "for n_records in number_records:\n",
    "    data_in = x_defender[:n_records], y_defender[:n_records]\n",
    "    data_out = x_reserve[:n_records], y_reserve[:n_records]\n",
    "    defender_model = defender_model_fn()\n",
    "    defender_model.fit(data_in[0],data_in[1])\n",
    "    predict_reserve_proba = defender_model.predict_proba(data_out[0])\n",
    "    \n",
    "    auc_by_class = []\n",
    "\n",
    "    # compute auc per class then take the average value\n",
    "    for i in range(NUM_CLASSES):\n",
    "      class_indices = data_out[1] == i\n",
    "      if np.sum(class_indices) == 0:\n",
    "            continue\n",
    "      fpr, tpr, thresholds = metrics.roc_curve(class_indices, predict_reserve_proba[:,i])\n",
    "      auc = metrics.auc(fpr, tpr)\n",
    "      auc_by_class.append(auc)\n",
    "\n",
    "    average_auc = np.mean(auc_by_class)\n",
    "    utility = max(2*average_auc -1,0)\n",
    "    utility_all.append(utility)"
   ]
  },
  {
   "cell_type": "code",
   "execution_count": 231,
   "metadata": {},
   "outputs": [
    {
     "name": "stderr",
     "output_type": "stream",
     "text": [
      "100%|██████████| 48/48 [00:00<00:00, 36886.51it/s]\n",
      "100%|██████████| 100/100 [00:00<00:00, 32906.83it/s]\n",
      "100%|██████████| 200/200 [00:00<00:00, 22735.20it/s]\n",
      "100%|██████████| 400/400 [00:00<00:00, 11767.21it/s]\n",
      "100%|██████████| 800/800 [00:00<00:00, 6574.45it/s]\n",
      "100%|██████████| 1600/1600 [00:00<00:00, 3648.29it/s]\n",
      "100%|██████████| 3200/3200 [00:01<00:00, 1740.43it/s]\n",
      "100%|██████████| 6400/6400 [00:07<00:00, 914.17it/s]\n"
     ]
    }
   ],
   "source": [
    "privacy_all = []\n",
    "variance_all = []\n",
    "sigma_error_all = []\n",
    "\n",
    "for i in range(len(similarities_in_all)):\n",
    "    \n",
    "    similarities_in = similarities_in_all[i]\n",
    "    similarities_out = similarities_out_all[i]\n",
    "    \n",
    "    results = []\n",
    "\n",
    "    for j in tqdm(range(len(similarities_in))):\n",
    "        for k in range(len(similarities_out)):\n",
    "\n",
    "            if similarities_in[j] <= similarities_out[k]:\n",
    "                results.append(1)\n",
    "            else:\n",
    "                results.append(0)\n",
    "\n",
    "    n = len(results)\n",
    "    p = 1-np.sum(results)/n\n",
    "\n",
    "    privacy = min(2*p,1)\n",
    "    variance = 2*p*(1-p)/n\n",
    "    sigma_error = 2*np.sqrt(p*(1-p)/n)\n",
    "    \n",
    "    privacy_all.append(privacy)\n",
    "    variance_all.append(variance)\n",
    "    sigma_error_all.append(sigma_error)\n",
    "    "
   ]
  },
  {
   "cell_type": "code",
   "execution_count": 247,
   "metadata": {},
   "outputs": [
    {
     "data": {
      "image/png": "[encoded data removed]",
      "text/plain": [
       "<Figure size 432x288 with 1 Axes>"
      ]
     },
     "metadata": {
      "needs_background": "light"
     },
     "output_type": "display_data"
    }
   ],
   "source": [
    "import matplotlib.pyplot as plt\n",
    "\n",
    "plt.figure()\n",
    "plt.grid(linestyle='-.',)\n",
    "#plt.plot(acc,auc,yerr=[auc_max-auc,auc-auc_min],c='lightskyblue',marker='o',label='train acc')\n",
    "plt.plot(privacy_all,utility_all,marker='o')\n",
    "plt.title(\"privacy/utility of defender model\")\n",
    "plt.xlabel('Privacy')\n",
    "plt.ylabel('Utility')\n",
    "\n",
    "plt.xlim((0,1))\n",
    "plt.ylim((0,1))\n",
    "#plt.legend()\n",
    "plt.show()"
   ]
  },
  {
   "cell_type": "code",
   "execution_count": 227,
   "metadata": {},
   "outputs": [
    {
     "name": "stdout",
     "output_type": "stream",
     "text": [
      "Percentage of wrong guess: 0.0 %\n",
      "Defender model privacy: 0.0\n",
      "Privacy variance: 0.0\n",
      "Privacy error: 0.0\n"
     ]
    }
   ],
   "source": [
    "print('Percentage of wrong guess: {} %'.format(p*100))\n",
    "print('Defender model privacy: {}'.format(privacy))\n",
    "print('Privacy variance: {}'.format(variance))\n",
    "print('Privacy error: {}'.format(sigma_error))"
   ]
  },
  {
   "cell_type": "code",
   "execution_count": null,
   "metadata": {},
   "outputs": [],
   "source": []
  }
 ],
 "metadata": {
  "colab": {
   "collapsed_sections": [],
   "name": "Easy_NewMIA",
   "provenance": []
  },
  "kernelspec": {
   "display_name": "Python 3",
   "language": "python",
   "name": "python3"
  },
  "language_info": {
   "codemirror_mode": {
    "name": "ipython",
    "version": 3
   },
   "file_extension": ".py",
   "mimetype": "text/x-python",
   "name": "python",
   "nbconvert_exporter": "python",
   "pygments_lexer": "ipython3",
   "version": "3.8.10"
  }
 },
 "nbformat": 4,
 "nbformat_minor": 1
}