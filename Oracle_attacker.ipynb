{
 "cells": [
  {
   "cell_type": "markdown",
   "metadata": {},
   "source": [
    "# Requirement:\n",
    "- numpy 1.19.5\n",
    "- tensorflow 2.5.0\n",
    "- tensorflow_privacy 0.6.1\n",
    "- sklearn 0.24.2\n",
    "\n",
    "Before performing the experiments, you need to fit the **mia_path** (path for MIA package) and **pickle_file**(path for tabular QMNIST data) according to your own PC."
   ]
  },
  {
   "cell_type": "code",
   "execution_count": 1,
   "metadata": {
    "id": "iYdgdZMocHNk"
   },
   "outputs": [],
   "source": [
    "import numpy as np\n",
    "\n",
    "import pickle\n",
    "import tensorflow as tf\n",
    "from tensorflow.keras import layers\n",
    "\n",
    "from sklearn.model_selection import train_test_split"
   ]
  },
  {
   "cell_type": "markdown",
   "metadata": {
    "id": "xuMDw0xmAH-d"
   },
   "source": [
    "# Load QMNIST data."
   ]
  },
  {
   "cell_type": "code",
   "execution_count": 2,
   "metadata": {
    "colab": {
     "base_uri": "https://localhost:8080/"
    },
    "id": "yOBOLaM6ghKD",
    "outputId": "4191ad8b-6f65-4ad6-87e6-fc1d695cb81a"
   },
   "outputs": [
    {
     "name": "stdout",
     "output_type": "stream",
     "text": [
      "Data loaded.\n"
     ]
    }
   ],
   "source": [
    "pickle_file = '/home/jiangnan/Desktop/dataset/QMNIST_tabular.pickle'\n",
    "\n",
    "with open(pickle_file, 'rb') as f:\n",
    "  pickle_data = pickle.load(f)\n",
    "  x_defender = pickle_data['x_private']\n",
    "  x_reserve = pickle_data['x_reserved']\n",
    "  y_defender = pickle_data['y_private']\n",
    "  y_reserve = pickle_data['y_reserved']\n",
    "  del pickle_data\n",
    "print('Data loaded.')"
   ]
  },
  {
   "cell_type": "code",
   "execution_count": 3,
   "metadata": {
    "id": "qW1n24bvs6nP"
   },
   "outputs": [],
   "source": [
    "NUM_CLASSES = 10\n",
    "\n",
    "y_defender = y_defender[:,0]\n",
    "y_reserve = y_reserve[:,0]\n",
    "\n",
    "y_defender = np.expand_dims(y_defender,axis=1)\n",
    "y_reserve = np.expand_dims(y_reserve,axis=1)\n",
    "\n",
    "y_defender = tf.keras.utils.to_categorical(y_defender, num_classes=NUM_CLASSES)\n",
    "y_reserve = tf.keras.utils.to_categorical(y_reserve, num_classes=NUM_CLASSES)"
   ]
  },
  {
   "cell_type": "markdown",
   "metadata": {
    "id": "8TfaWzhkATJq"
   },
   "source": [
    "# Defender model $M_D$"
   ]
  },
  {
   "cell_type": "code",
   "execution_count": 4,
   "metadata": {
    "id": "WjQgTR5vcerZ"
   },
   "outputs": [],
   "source": [
    "#l2_norm_clip = 1.0\n",
    "#noise_multiplier = 1.1\n",
    "\n",
    "def defender_model_fn():\n",
    "    \"\"\"The architecture of the defender (victim) model.\n",
    "    The attack is white-box, hence the attacker is assumed to know this architecture too.\"\"\"\n",
    "    \n",
    "    tf.random.set_seed(10)\n",
    "    model = tf.keras.models.Sequential([\n",
    "    tf.keras.layers.Flatten(),\n",
    "    tf.keras.layers.Dense(128, activation=tf.nn.relu),\n",
    "    tf.keras.layers.Dense(10, activation=tf.nn.softmax)\n",
    "    ])\n",
    "    \n",
    "    ##if train_with_DP:\n",
    "    ##from tensorflow_privacy.privacy.optimizers.dp_optimizer_keras import DPKerasSGDOptimizer\n",
    "    ##train_op = DPKerasSGDOptimizer(\n",
    "    ##    l2_norm_clip=l2_norm_clip,\n",
    "    ##    noise_multiplier=noise_multiplier,\n",
    "    ##    num_microbatches=1, # Possible problem after reducing the size of cost vector in tensorflow-privacy. Check: https://github.com/tensorflow/privacy/issues/17\n",
    "    ##    learning_rate=1e-4\n",
    "    ##    )\n",
    "    ##else:\n",
    "    \n",
    "    train_op = tf.optimizers.Adam(1e-4)\n",
    "    \n",
    "    model.compile(optimizer=train_op,\n",
    "                  loss='categorical_crossentropy',\n",
    "                  metrics=['accuracy'])\n",
    "    return model\n"
   ]
  },
  {
   "cell_type": "markdown",
   "metadata": {
    "id": "dbNvGhsvAwUX"
   },
   "source": [
    "## Train $M_D$ "
   ]
  },
  {
   "cell_type": "code",
   "execution_count": 5,
   "metadata": {
    "colab": {
     "base_uri": "https://localhost:8080/"
    },
    "id": "6VXxf4j0hC69",
    "outputId": "2ec6a762-3f61-4198-9588-5e192609a5dd"
   },
   "outputs": [
    {
     "name": "stdout",
     "output_type": "stream",
     "text": [
      "Training the defender model...\n"
     ]
    },
    {
     "data": {
      "text/plain": [
       "<tensorflow.python.keras.callbacks.History at 0x7fc1412234c0>"
      ]
     },
     "execution_count": 5,
     "metadata": {},
     "output_type": "execute_result"
    }
   ],
   "source": [
    "number_records = 10000\n",
    "\n",
    "# Train the defender model.\n",
    "print(\"Training the defender model...\")\n",
    "defender_model = defender_model_fn()\n",
    "defender_model.fit(\n",
    "    x_defender[:number_records], y_defender[:number_records], epochs=20, batch_size = 32, validation_split=0.5, verbose=False\n",
    ")"
   ]
  },
  {
   "cell_type": "code",
   "execution_count": 6,
   "metadata": {
    "colab": {
     "base_uri": "https://localhost:8080/"
    },
    "id": "dcHiSe6lTIDl",
    "outputId": "225dd257-f918-4e63-f339-56fdd636025f"
   },
   "outputs": [
    {
     "name": "stdout",
     "output_type": "stream",
     "text": [
      "Model: \"sequential\"\n",
      "_________________________________________________________________\n",
      "Layer (type)                 Output Shape              Param #   \n",
      "=================================================================\n",
      "flatten (Flatten)            (None, 512)               0         \n",
      "_________________________________________________________________\n",
      "dense (Dense)                (None, 128)               65664     \n",
      "_________________________________________________________________\n",
      "dense_1 (Dense)              (None, 10)                1290      \n",
      "=================================================================\n",
      "Total params: 66,954\n",
      "Trainable params: 66,954\n",
      "Non-trainable params: 0\n",
      "_________________________________________________________________\n"
     ]
    }
   ],
   "source": [
    "defender_model.summary()"
   ]
  },
  {
   "cell_type": "markdown",
   "metadata": {
    "id": "BF8tOx1gArS0"
   },
   "source": [
    "## Evaluate the utility of $M_D$ on utility evaluation dataset $E_U$ (which is equal to reserve dataset $R$).\n",
    "\n",
    "Evaluation metrics: **Accuracy** & **AUC**"
   ]
  },
  {
   "cell_type": "code",
   "execution_count": 7,
   "metadata": {
    "id": "dMQi7hGSGQZL"
   },
   "outputs": [],
   "source": [
    "from sklearn import metrics\n",
    "from sklearn.metrics import log_loss\n",
    "from sklearn.metrics import accuracy_score\n",
    "from sklearn.metrics.pairwise import euclidean_distances"
   ]
  },
  {
   "cell_type": "code",
   "execution_count": 8,
   "metadata": {
    "colab": {
     "base_uri": "https://localhost:8080/"
    },
    "id": "mzjsUgxj-DSH",
    "outputId": "26a1e0b9-deba-4557-8caa-a4e77a7b413b"
   },
   "outputs": [
    {
     "name": "stderr",
     "output_type": "stream",
     "text": [
      "/home/jiangnan/.local/lib/python3.8/site-packages/tensorflow/python/keras/engine/sequential.py:430: UserWarning: `model.predict_proba()` is deprecated and will be removed after 2021-01-01. Please use `model.predict()` instead.\n",
      "  warnings.warn('`model.predict_proba()` is deprecated and '\n"
     ]
    }
   ],
   "source": [
    "# compute the accuracy as acc\n",
    "predict_reserve_proba = defender_model.predict_proba(x_reserve)\n",
    "predict_reserve = np.argmax(predict_reserve_proba, axis=1)\n",
    "label_reserve = np.argmax(y_reserve, axis=1)\n",
    "acc = accuracy_score(label_reserve, predict_reserve)"
   ]
  },
  {
   "cell_type": "code",
   "execution_count": 9,
   "metadata": {
    "id": "kMPG56kw6JDi"
   },
   "outputs": [],
   "source": [
    "auc_by_class = []\n",
    "\n",
    "# compute auc per class then take the average value\n",
    "for i in range(NUM_CLASSES):\n",
    "  class_indices = np.argmax(y_reserve, axis=1) == i\n",
    "  fpr, tpr, thresholds = metrics.roc_curve(class_indices, predict_reserve_proba[:,i])\n",
    "  auc = metrics.auc(fpr, tpr)\n",
    "  auc_by_class.append(auc)\n",
    "\n",
    "average_auc = np.mean(auc_by_class)"
   ]
  },
  {
   "cell_type": "code",
   "execution_count": 10,
   "metadata": {
    "colab": {
     "base_uri": "https://localhost:8080/"
    },
    "id": "a_Rkks7XCdxd",
    "outputId": "5a4d28bb-2102-482b-887e-95b82ec5cb5e"
   },
   "outputs": [
    {
     "name": "stdout",
     "output_type": "stream",
     "text": [
      "Utility of defender model:\n",
      "Acc: 0.9308436724565757\n",
      "Auc: 0.9959518907915067\n"
     ]
    }
   ],
   "source": [
    "print('Utility of defender model:')\n",
    "print('Acc: {}'.format(acc))\n",
    "print('Auc: {}'.format(average_auc))"
   ]
  },
  {
   "cell_type": "code",
   "execution_count": 11,
   "metadata": {
    "id": "phhR98WSPwDh"
   },
   "outputs": [],
   "source": [
    "# if necessary, save or reload the defender model trained\n",
    "\n",
    "#defender_model_path = '/home/jiangnan/Desktop/model/QMNIST_defender_model'\n",
    "#defender_model.save(defender_model_path)\n",
    "\n",
    "#defender_model = tf.keras.models.load_model(defender_model_path)"
   ]
  },
  {
   "cell_type": "markdown",
   "metadata": {
    "id": "LZg1y29Y_-bp"
   },
   "source": [
    "# Oracle attack model $M_A$"
   ]
  },
  {
   "cell_type": "code",
   "execution_count": 11,
   "metadata": {
    "id": "utePp7mWuXNy"
   },
   "outputs": [],
   "source": [
    "import random\n",
    "from tqdm import tqdm"
   ]
  },
  {
   "cell_type": "code",
   "execution_count": 12,
   "metadata": {},
   "outputs": [],
   "source": [
    "data_in = x_defender[:number_records], y_defender[:number_records]\n",
    "data_out = x_reserve[:number_records], y_reserve[:number_records]"
   ]
  },
  {
   "cell_type": "code",
   "execution_count": 13,
   "metadata": {},
   "outputs": [],
   "source": [
    "random_index = random.randint(0,number_records-1)\n",
    "\n",
    "evaluation_data_in = data_in[0][random_index]\n",
    "evaluation_label_in = data_in[1][random_index]\n",
    "\n",
    "evaluation_data_out = data_out[0][random_index]\n",
    "evaluation_label_out = data_out[1][random_index]\n",
    "\n",
    "evaluation_data = np.array([evaluation_data_in, evaluation_data_out])\n",
    "evaluation_label = np.array([evaluation_label_in, evaluation_label_out])\n",
    "\n",
    "evaluation = evaluation_data, evaluation_label\n",
    "\n",
    "\n",
    "attack_train_data_in = np.delete(data_in[0], random_index, axis=0)\n",
    "attack_train_label_in = np.delete(data_in[1], random_index, axis=0)\n",
    "\n",
    "attack_in = attack_train_data_in, attack_train_label_in\n",
    "\n",
    "attack_train_data_out = np.delete(data_out[0], random_index, axis=0)\n",
    "attack_train_label_out = np.delete(data_out[1], random_index, axis=0)\n",
    "\n",
    "attack_out = attack_train_data_out, attack_train_label_out"
   ]
  },
  {
   "cell_type": "code",
   "execution_count": 14,
   "metadata": {},
   "outputs": [
    {
     "name": "stderr",
     "output_type": "stream",
     "text": [
      "100%|██████████| 100/100 [10:29<00:00,  6.29s/it]\n"
     ]
    }
   ],
   "source": [
    "all_predict = []\n",
    "\n",
    "for i in tqdm(range(100)):\n",
    "    \n",
    "    fake_with_out = np.vstack((attack_out[0][i],attack_in[0])), np.vstack((attack_out[1][i],attack_in[1]))\n",
    "\n",
    "    fake_defender_model_out = defender_model_fn()\n",
    "    fake_defender_model_out.fit(fake_with_out[0],fake_with_out[1], epochs=20, batch_size = 32, validation_split=0.5, verbose=False)\n",
    "    \n",
    "    out_predict = fake_defender_model_out.predict(attack_in[0])\n",
    "    all_predict.append(out_predict)"
   ]
  },
  {
   "cell_type": "code",
   "execution_count": 15,
   "metadata": {},
   "outputs": [
    {
     "name": "stdout",
     "output_type": "stream",
     "text": [
      "threshold:0.015848858281970024\n"
     ]
    }
   ],
   "source": [
    "predict = defender_model.predict(attack_in[0])\n",
    "falseModelDists = []\n",
    "\n",
    "for i in range(100):\n",
    "    falseModelDists.append(np.mean(np.linalg.norm(all_predict[i]-predict, axis=1)))\n",
    "\n",
    "threshold = np.percentile(np.array(falseModelDists),50)\n",
    "print('threshold:{}'.format(threshold))"
   ]
  },
  {
   "cell_type": "code",
   "execution_count": 16,
   "metadata": {},
   "outputs": [
    {
     "name": "stderr",
     "output_type": "stream",
     "text": [
      " 50%|█████     | 1/2 [00:06<00:06,  6.18s/it]"
     ]
    },
    {
     "name": "stdout",
     "output_type": "stream",
     "text": [
      "Point 0 is not in defender data\n"
     ]
    },
    {
     "name": "stderr",
     "output_type": "stream",
     "text": [
      "100%|██████████| 2/2 [00:12<00:00,  6.18s/it]"
     ]
    },
    {
     "name": "stdout",
     "output_type": "stream",
     "text": [
      "Point 1 is in defender data\n"
     ]
    },
    {
     "name": "stderr",
     "output_type": "stream",
     "text": [
      "\n"
     ]
    }
   ],
   "source": [
    "predict = defender_model.predict(attack_in[0])\n",
    "\n",
    "results = []\n",
    "similarities = []\n",
    "\n",
    "for i in tqdm(range(evaluation[0].shape[0])):\n",
    "    \n",
    "    attack_in_plus_one = np.vstack((evaluation[0][i].reshape(1,attack_in[0].shape[1]),attack_in[0])), np.vstack(( evaluation[1][i].reshape(1,attack_in[1].shape[1]),attack_in[1]))\n",
    "    \n",
    "    M_cD = defender_model_fn()\n",
    "    M_cD.fit(attack_in_plus_one[0], attack_in_plus_one[1], epochs=20, batch_size = 32, validation_split=0.5, verbose=False)\n",
    "    M_cD_predict = M_cD.predict(attack_in[0])\n",
    "    similarity = np.mean(np.linalg.norm(M_cD_predict-predict, axis=1))\n",
    "    similarities.append(similarity)\n",
    "    \n",
    "    if similarity < threshold:\n",
    "        results.append(1)\n",
    "        print('Point {} is in defender data'.format(i))\n",
    "    else:\n",
    "        results.append(0)\n",
    "        print('Point {} is not in defender data'.format(i))"
   ]
  },
  {
   "cell_type": "code",
   "execution_count": null,
   "metadata": {},
   "outputs": [],
   "source": [
    "similarities"
   ]
  },
  {
   "cell_type": "code",
   "execution_count": null,
   "metadata": {
    "id": "pt5bZ5pEHs_A"
   },
   "outputs": [],
   "source": []
  }
 ],
 "metadata": {
  "colab": {
   "collapsed_sections": [],
   "name": "Easy_NewMIA",
   "provenance": []
  },
  "kernelspec": {
   "display_name": "Python 3",
   "language": "python",
   "name": "python3"
  },
  "language_info": {
   "codemirror_mode": {
    "name": "ipython",
    "version": 3
   },
   "file_extension": ".py",
   "mimetype": "text/x-python",
   "name": "python",
   "nbconvert_exporter": "python",
   "pygments_lexer": "ipython3",
   "version": "3.8.10"
  }
 },
 "nbformat": 4,
 "nbformat_minor": 1
}
