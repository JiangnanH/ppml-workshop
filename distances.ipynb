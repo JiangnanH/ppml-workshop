{
 "cells": [
  {
   "cell_type": "code",
   "execution_count": 1,
   "metadata": {},
   "outputs": [],
   "source": [
    "import pickle as pkl\n",
    "import numpy as np\n",
    "import matplotlib.pyplot as plt"
   ]
  },
  {
   "cell_type": "code",
   "execution_count": 31,
   "metadata": {},
   "outputs": [],
   "source": [
    "from sklearn import metrics\n",
    "# y = np.array([1, 1, 2, 2])\n",
    "# pred = np.array([0.1, 0.4, 0.35, 0.8])\n",
    "# fpr, tpr, thresholds = metrics.roc_curve(y, pred, pos_label=2)\n",
    "# metrics.auc(fpr, tpr)"
   ]
  },
  {
   "cell_type": "code",
   "execution_count": 34,
   "metadata": {},
   "outputs": [],
   "source": [
    "import pandas as pd"
   ]
  },
  {
   "cell_type": "code",
   "execution_count": 35,
   "metadata": {},
   "outputs": [],
   "source": [
    "from scipy import stats # gaussian_kde"
   ]
  },
  {
   "cell_type": "code",
   "execution_count": 2,
   "metadata": {},
   "outputs": [],
   "source": [
    "with open(\"x_defender.pickle\", \"rb\") as f:\n",
    "    x_defender = pkl.load(f)\n",
    "    \n",
    "with open(\"x_reserve.pickle\", \"rb\") as f:\n",
    "    x_reserve = pkl.load(f)\n",
    "    \n",
    "with open(\"y_defender.pickle\", \"rb\") as f:\n",
    "    y_defender = pkl.load(f)\n",
    "    \n",
    "with open(\"y_reserve.pickle\", \"rb\") as f:\n",
    "    y_reserve = pkl.load(f)"
   ]
  },
  {
   "cell_type": "code",
   "execution_count": 3,
   "metadata": {},
   "outputs": [],
   "source": [
    "with open(\"nn_dict.pickle\", 'rb') as f:\n",
    "  dump_dict = pkl.load(f)"
   ]
  },
  {
   "cell_type": "code",
   "execution_count": 4,
   "metadata": {},
   "outputs": [
    {
     "data": {
      "text/plain": [
       "dict_keys(['W1_early', 'W10_early', 'W2_early', 'W20_early', 'W1star', 'W10star', 'W2star', 'W20star', 'W1_last', 'W10_last', 'W2_last', 'W20_last', 'EPOCHS', 'norms', 'trng_loss', 'test_loss', 'best_ind'])"
      ]
     },
     "execution_count": 4,
     "metadata": {},
     "output_type": "execute_result"
    }
   ],
   "source": [
    "dump_dict.keys()"
   ]
  },
  {
   "cell_type": "code",
   "execution_count": 5,
   "metadata": {},
   "outputs": [
    {
     "name": "stdout",
     "output_type": "stream",
     "text": [
      "W1_early is shape: (512, 128)\n",
      "W10_early is shape: (128,)\n",
      "W2_early is shape: (128, 10)\n",
      "W20_early is shape: (10,)\n",
      "W1star is shape: (512, 128)\n",
      "W10star is shape: (128,)\n",
      "W2star is shape: (128, 10)\n",
      "W20star is shape: (10,)\n",
      "W1_last is shape: (512, 128)\n",
      "W10_last is shape: (128,)\n",
      "W2_last is shape: (128, 10)\n",
      "W20_last is shape: (10,)\n",
      "norms is shape: (10010,)\n",
      "trng_loss is shape: (1001,)\n",
      "test_loss is shape: (1001,)\n"
     ]
    }
   ],
   "source": [
    "for k,v in dump_dict.items():\n",
    "    if type(v) is np.ndarray:\n",
    "        print(f\"{k} is shape: {v.shape}\")"
   ]
  },
  {
   "cell_type": "code",
   "execution_count": 6,
   "metadata": {},
   "outputs": [
    {
     "data": {
      "text/plain": [
       "Text(0, 0.5, 'Norm of Gradient')"
      ]
     },
     "execution_count": 6,
     "metadata": {},
     "output_type": "execute_result"
    },
    {
     "data": {
      "image/png": "[encoded data removed]",
      "text/plain": [
       "<Figure size 432x288 with 1 Axes>"
      ]
     },
     "metadata": {
      "needs_background": "light"
     },
     "output_type": "display_data"
    }
   ],
   "source": [
    "plt.plot(dump_dict['norms']) # plot norms of gradients\n",
    "plt.xlabel('Iteration', fontsize=16)\n",
    "plt.ylabel('Norm of Gradient', fontsize=16)\n",
    "#plt.savefig('grad_norm.pdf')\n",
    "#plt.close()"
   ]
  },
  {
   "cell_type": "code",
   "execution_count": 7,
   "metadata": {},
   "outputs": [
    {
     "data": {
      "text/plain": [
       "Text(0, 0.5, 'Loss')"
      ]
     },
     "execution_count": 7,
     "metadata": {},
     "output_type": "execute_result"
    },
    {
     "data": {
      "image/png": "[encoded data removed]",
      "text/plain": [
       "<Figure size 432x288 with 1 Axes>"
      ]
     },
     "metadata": {
      "needs_background": "light"
     },
     "output_type": "display_data"
    }
   ],
   "source": [
    "i_axis = np.arange(dump_dict['EPOCHS']) # abscissa for plots of loss & accuracy\n",
    "\n",
    "# plot loss each epoch\n",
    "loss_min = min(min(dump_dict['trng_loss']),\n",
    "               min(dump_dict['test_loss'])\n",
    "               ) # min of vertical dashed line\n",
    "loss_max = max(max(dump_dict['trng_loss']),\n",
    "               max(dump_dict['test_loss'])\n",
    "               ) # max of vertical dashed line\n",
    "\n",
    "plt.plot(i_axis, dump_dict['trng_loss'], 'b--', label='Train') # plot loss\n",
    "plt.plot(i_axis, dump_dict['test_loss'], 'r--', label='Test')\n",
    "plt.plot((240+dump_dict['best_ind'], 240+dump_dict['best_ind']), (loss_min, loss_max), 'g--')\n",
    "plt.legend()\n",
    "plt.xlabel('Epoch', fontsize=16)\n",
    "plt.ylabel('Loss', fontsize=16)\n",
    "#plt.savefig('loss.pdf')\n",
    "#plt.close()"
   ]
  },
  {
   "cell_type": "code",
   "execution_count": 8,
   "metadata": {},
   "outputs": [],
   "source": [
    "# defining my activation functions\n",
    "def relu(x):\n",
    "    '''the Relu activation function'''\n",
    "    return np.maximum(0,x)\n",
    "\n",
    "def softmax(x):\n",
    "    '''the softmax activation function applied to each column'''\n",
    "    temp = x - np.amax(x, axis=0, keepdims=True) # to avoid overflow\n",
    "    # softmax(z_k) = exp(z_k)/sum_k' {exp(z_k')}\n",
    "    return np.exp(temp)/np.sum(np.exp(temp), axis=0, keepdims=True)\n",
    "  \n",
    "def cross_ent1(p, q):\n",
    "  \n",
    "    return -1*(p * np.log(q)).sum(axis=0)\n",
    "  \n",
    "def cross_ent2(p, xw):\n",
    "  \n",
    "    temp = np.log( np.sum( np.exp(xw), axis=0 ) ) - xw\n",
    "  \n",
    "    return np.sum( temp * p, axis=0 )"
   ]
  },
  {
   "cell_type": "code",
   "execution_count": 9,
   "metadata": {},
   "outputs": [],
   "source": [
    "xw1 = np.random.randint(low=-9, high=10, size=(3,5))\n",
    "xw2 = np.random.randint(low=-9, high=10, size=(3,5))\n",
    "p1 = softmax(xw1)\n",
    "p2 = softmax(xw2)"
   ]
  },
  {
   "cell_type": "code",
   "execution_count": 10,
   "metadata": {},
   "outputs": [
    {
     "data": {
      "text/plain": [
       "array([ 6.21490858,  0.83540002, 12.56930832,  3.25163915, 12.76620116])"
      ]
     },
     "execution_count": 10,
     "metadata": {},
     "output_type": "execute_result"
    }
   ],
   "source": [
    "cross_ent1(p1, p2)"
   ]
  },
  {
   "cell_type": "code",
   "execution_count": 11,
   "metadata": {},
   "outputs": [
    {
     "data": {
      "text/plain": [
       "array([ 6.21490858,  0.83540002, 12.56930832,  3.25163915, 12.76620116])"
      ]
     },
     "execution_count": 11,
     "metadata": {},
     "output_type": "execute_result"
    }
   ],
   "source": [
    "cross_ent2(p1, xw2)"
   ]
  },
  {
   "cell_type": "code",
   "execution_count": 12,
   "metadata": {},
   "outputs": [],
   "source": [
    "def model(W1,W10,W2,W20):\n",
    "  \n",
    "    def f(x):\n",
    "        H1 = relu(np.tensordot(np.transpose(W1),x, axes=1) + W10)\n",
    "        XW = np.tensordot(np.transpose(W2),H1, axes=1) + W20\n",
    "        \n",
    "        return XW\n",
    "      \n",
    "    return f"
   ]
  },
  {
   "cell_type": "code",
   "execution_count": 23,
   "metadata": {},
   "outputs": [],
   "source": [
    "def grad(W1,W10,W2,W20):\n",
    "  \n",
    "    N1, K = W2.shape\n",
    "    BATCH_SIZE = 1\n",
    "  \n",
    "    pdRelu1 = np.zeros((BATCH_SIZE, N1, N1)) # partial relu1(z)/partial z\n",
    "    pdSigma = np.zeros((BATCH_SIZE, K, K)) # partial softmax(z)/partial z\n",
    "  \n",
    "    def g(xbatch, ybatch):\n",
    "      \n",
    "        # FORWARD PROP\n",
    "        H1 = relu(np.tensordot(np.transpose(W1),xbatch, axes=1) + W10)\n",
    "        XW = np.tensordot(np.transpose(W2),H1, axes=1) + W20\n",
    "        Yhat = softmax(XW)\n",
    "      \n",
    "        # BACK PROP - compute the gradients, working backwards\n",
    "        gradYhat = -ybatch/Yhat # gradient of output\n",
    "\n",
    "        # partial softmax(z)/partial z\n",
    "        for b in range(BATCH_SIZE):\n",
    "            pdSigma[b,:,:] = np.matmul(\n",
    "                np.diag(Yhat[:,b]),\n",
    "                    np.identity(K) - Yhat[:,b]\n",
    "                    )\n",
    "\n",
    "        gradW2 = (\n",
    "            np.matmul(\n",
    "                np.matmul(\n",
    "                    np.expand_dims(np.transpose(H1),axis=2), # col vecs\n",
    "                    np.expand_dims(np.transpose(gradYhat),axis=1) # row vecs\n",
    "                    ), # outer product, effectively\n",
    "                pdSigma\n",
    "                )\n",
    "            )\n",
    "\n",
    "        gradW20 = (\n",
    "            np.matmul(\n",
    "                pdSigma,\n",
    "                np.expand_dims(np.transpose(gradYhat),axis=2), # col vecs\n",
    "                )\n",
    "            )\n",
    "\n",
    "        gradH1 = (\n",
    "            np.matmul(\n",
    "                W2,\n",
    "                np.matmul(\n",
    "                    pdSigma,\n",
    "                    np.expand_dims(np.transpose(gradYhat),axis=2), # col vecs\n",
    "                    )\n",
    "                )\n",
    "            )\n",
    "\n",
    "        # partial Relu(z)/partial z for H1\n",
    "        for b in range(BATCH_SIZE):\n",
    "            pdRelu1[b,:,:] = np.diag(np.sign(H1[:,b]))\n",
    "\n",
    "        gradW1 = (\n",
    "            np.matmul(\n",
    "                np.matmul(\n",
    "                    np.expand_dims(np.transpose(xbatch),axis=2), # col vecs\n",
    "                    np.swapaxes(gradH1,1,2) # row vecs\n",
    "                    ), # outer product, effectively\n",
    "                pdRelu1\n",
    "                )\n",
    "            )\n",
    "\n",
    "        gradW10 = (\n",
    "            np.matmul(\n",
    "                pdRelu1,\n",
    "                gradH1 # col vecs\n",
    "                )\n",
    "            )\n",
    "        \n",
    "        return gradW1, gradW10, gradW2, gradW20\n",
    "  \n",
    "    return g"
   ]
  },
  {
   "cell_type": "code",
   "execution_count": 14,
   "metadata": {},
   "outputs": [],
   "source": [
    "# loss (-LCL)\n",
    "def loss(y, XW): \n",
    "  \n",
    "    L = (\n",
    "        -np.sum(np.transpose(y) *\n",
    "                (XW -\n",
    "                 np.log(\n",
    "                     np.sum(np.exp(XW),\n",
    "                            axis=0, \n",
    "                            keepdims=True\n",
    "                            )\n",
    "                     )\n",
    "                 )\n",
    "                )\n",
    "        )/XW.shape[1]\n",
    "    return L"
   ]
  },
  {
   "cell_type": "code",
   "execution_count": 15,
   "metadata": {},
   "outputs": [],
   "source": [
    "# total accuracy\n",
    "def accuracy(y, XW):\n",
    "  \n",
    "    return np.sum(y == np.argmax(XW, axis=0))/XW.shape[1]"
   ]
  },
  {
   "cell_type": "code",
   "execution_count": 69,
   "metadata": {},
   "outputs": [
    {
     "name": "stdout",
     "output_type": "stream",
     "text": [
      "Shapes of weights and biases:\n",
      "(512, 128)\n",
      "(128, 1)\n",
      "(128, 10)\n",
      "(10, 1)\n",
      "\n",
      "\n",
      "Shapes of data:\n",
      "(512, 400)\n",
      "(512, 400)\n",
      "(10, 400)\n",
      "(10, 400)\n"
     ]
    }
   ],
   "source": [
    "W1_D = dump_dict['W1_last'].copy()\n",
    "W10_D = (dump_dict['W10_last'].copy())[:,None]\n",
    "W2_D = dump_dict['W2_last'].copy()\n",
    "W20_D = (dump_dict['W20_last'].copy())[:,None]\n",
    "\n",
    "N = 400\n",
    "x_D = np.transpose(x_defender[:N,:]) # each sample is stored as a column\n",
    "x_R = np.transpose(x_reserve[:N,:])\n",
    "y_D = np.transpose(y_defender[:N,:]) # each sample is stored as a column\n",
    "y_R = np.transpose(y_reserve[:N,:])\n",
    "\n",
    "print(\"Shapes of weights and biases:\")\n",
    "print(W1_D.shape)\n",
    "print(W10_D.shape)\n",
    "print(W2_D.shape)\n",
    "print(W20_D.shape)\n",
    "print(\"\\n\")\n",
    "print(\"Shapes of data:\")\n",
    "print(x_D.shape)\n",
    "print(x_R.shape)\n",
    "print(y_D.shape)\n",
    "print(y_R.shape)"
   ]
  },
  {
   "cell_type": "code",
   "execution_count": 17,
   "metadata": {},
   "outputs": [],
   "source": [
    "M_D = model(W1_D,W10_D,W2_D,W20_D)"
   ]
  },
  {
   "cell_type": "code",
   "execution_count": 40,
   "metadata": {},
   "outputs": [
    {
     "name": "stdout",
     "output_type": "stream",
     "text": [
      "(512, 800)\n",
      "(10, 800)\n",
      "(1, 800)\n"
     ]
    }
   ],
   "source": [
    "all_data = np.concatenate((x_D,x_R), axis=1)\n",
    "all_lbls = np.concatenate((y_D,y_R), axis=1)\n",
    "all_mem_lbls = np.concatenate( ( np.ones((1,N)), np.zeros((1,N)) ), axis=1 )\n",
    "print(all_data.shape)\n",
    "print(all_lbls.shape)\n",
    "print(all_mem_lbls.shape)"
   ]
  },
  {
   "cell_type": "code",
   "execution_count": 19,
   "metadata": {
    "scrolled": true
   },
   "outputs": [
    {
     "name": "stdout",
     "output_type": "stream",
     "text": [
      "(10, 800)\n"
     ]
    }
   ],
   "source": [
    "M_D_XW_all = M_D(all_data)\n",
    "print(M_D_XW_all.shape)"
   ]
  },
  {
   "cell_type": "code",
   "execution_count": 20,
   "metadata": {
    "scrolled": true
   },
   "outputs": [
    {
     "name": "stdout",
     "output_type": "stream",
     "text": [
      "(10, 800)\n"
     ]
    }
   ],
   "source": [
    "M_D_yhat_all = softmax(M_D_XW_all)\n",
    "print(M_D_yhat_all.shape)"
   ]
  },
  {
   "cell_type": "code",
   "execution_count": 24,
   "metadata": {},
   "outputs": [],
   "source": [
    "M_D_grad = grad(W1_D,W10_D,W2_D,W20_D)"
   ]
  },
  {
   "cell_type": "code",
   "execution_count": 41,
   "metadata": {},
   "outputs": [
    {
     "name": "stdout",
     "output_type": "stream",
     "text": [
      "(800, 512, 128)\n",
      "(800, 128, 1)\n",
      "(800, 128, 10)\n",
      "(800, 10, 1)\n"
     ]
    }
   ],
   "source": [
    "M_D_grad_all = M_D_grad(all_data, all_lbls)\n",
    "for g in M_D_grad_all:\n",
    "    print(g.shape)"
   ]
  },
  {
   "cell_type": "code",
   "execution_count": 42,
   "metadata": {},
   "outputs": [
    {
     "name": "stdout",
     "output_type": "stream",
     "text": [
      "(1, 800)\n"
     ]
    }
   ],
   "source": [
    "grad_all_norms = np.zeros((1,2*N))\n",
    "for i in range(2*N):\n",
    "    grad_all_norms[0,i] = np.sqrt(\n",
    "        np.sum((M_D_grad_all[0][i,:,:])**2) +\n",
    "        np.sum((M_D_grad_all[1][i,:,:])**2) +\n",
    "        np.sum((M_D_grad_all[2][i,:,:])**2) +\n",
    "        np.sum((M_D_grad_all[3][i,:,:])**2)\n",
    "    )\n",
    "print(grad_all_norms.shape)"
   ]
  },
  {
   "cell_type": "code",
   "execution_count": 43,
   "metadata": {
    "scrolled": true
   },
   "outputs": [
    {
     "data": {
      "text/html": [
       "<div>\n",
       "<style scoped>\n",
       "    .dataframe tbody tr th:only-of-type {\n",
       "        vertical-align: middle;\n",
       "    }\n",
       "\n",
       "    .dataframe tbody tr th {\n",
       "        vertical-align: top;\n",
       "    }\n",
       "\n",
       "    .dataframe thead th {\n",
       "        text-align: right;\n",
       "    }\n",
       "</style>\n",
       "<table border=\"1\" class=\"dataframe\">\n",
       "  <thead>\n",
       "    <tr style=\"text-align: right;\">\n",
       "      <th></th>\n",
       "      <th>0</th>\n",
       "    </tr>\n",
       "  </thead>\n",
       "  <tbody>\n",
       "    <tr>\n",
       "      <th>count</th>\n",
       "      <td>4.000000e+02</td>\n",
       "    </tr>\n",
       "    <tr>\n",
       "      <th>mean</th>\n",
       "      <td>1.191745e+00</td>\n",
       "    </tr>\n",
       "    <tr>\n",
       "      <th>std</th>\n",
       "      <td>1.945353e+00</td>\n",
       "    </tr>\n",
       "    <tr>\n",
       "      <th>min</th>\n",
       "      <td>2.247666e-09</td>\n",
       "    </tr>\n",
       "    <tr>\n",
       "      <th>25%</th>\n",
       "      <td>6.294145e-08</td>\n",
       "    </tr>\n",
       "    <tr>\n",
       "      <th>50%</th>\n",
       "      <td>4.385972e-03</td>\n",
       "    </tr>\n",
       "    <tr>\n",
       "      <th>75%</th>\n",
       "      <td>2.484072e+00</td>\n",
       "    </tr>\n",
       "    <tr>\n",
       "      <th>max</th>\n",
       "      <td>7.234369e+00</td>\n",
       "    </tr>\n",
       "  </tbody>\n",
       "</table>\n",
       "</div>"
      ],
      "text/plain": [
       "                  0\n",
       "count  4.000000e+02\n",
       "mean   1.191745e+00\n",
       "std    1.945353e+00\n",
       "min    2.247666e-09\n",
       "25%    6.294145e-08\n",
       "50%    4.385972e-03\n",
       "75%    2.484072e+00\n",
       "max    7.234369e+00"
      ]
     },
     "execution_count": 43,
     "metadata": {},
     "output_type": "execute_result"
    }
   ],
   "source": [
    "pd.DataFrame(grad_all_norms[:,:N].T).describe()"
   ]
  },
  {
   "cell_type": "code",
   "execution_count": 44,
   "metadata": {},
   "outputs": [
    {
     "data": {
      "text/html": [
       "<div>\n",
       "<style scoped>\n",
       "    .dataframe tbody tr th:only-of-type {\n",
       "        vertical-align: middle;\n",
       "    }\n",
       "\n",
       "    .dataframe tbody tr th {\n",
       "        vertical-align: top;\n",
       "    }\n",
       "\n",
       "    .dataframe thead th {\n",
       "        text-align: right;\n",
       "    }\n",
       "</style>\n",
       "<table border=\"1\" class=\"dataframe\">\n",
       "  <thead>\n",
       "    <tr style=\"text-align: right;\">\n",
       "      <th></th>\n",
       "      <th>0</th>\n",
       "    </tr>\n",
       "  </thead>\n",
       "  <tbody>\n",
       "    <tr>\n",
       "      <th>count</th>\n",
       "      <td>4.000000e+02</td>\n",
       "    </tr>\n",
       "    <tr>\n",
       "      <th>mean</th>\n",
       "      <td>4.854294e+00</td>\n",
       "    </tr>\n",
       "    <tr>\n",
       "      <th>std</th>\n",
       "      <td>5.151783e+01</td>\n",
       "    </tr>\n",
       "    <tr>\n",
       "      <th>min</th>\n",
       "      <td>2.291953e-09</td>\n",
       "    </tr>\n",
       "    <tr>\n",
       "      <th>25%</th>\n",
       "      <td>7.203463e-08</td>\n",
       "    </tr>\n",
       "    <tr>\n",
       "      <th>50%</th>\n",
       "      <td>2.154456e-02</td>\n",
       "    </tr>\n",
       "    <tr>\n",
       "      <th>75%</th>\n",
       "      <td>2.863140e+00</td>\n",
       "    </tr>\n",
       "    <tr>\n",
       "      <th>max</th>\n",
       "      <td>1.016057e+03</td>\n",
       "    </tr>\n",
       "  </tbody>\n",
       "</table>\n",
       "</div>"
      ],
      "text/plain": [
       "                  0\n",
       "count  4.000000e+02\n",
       "mean   4.854294e+00\n",
       "std    5.151783e+01\n",
       "min    2.291953e-09\n",
       "25%    7.203463e-08\n",
       "50%    2.154456e-02\n",
       "75%    2.863140e+00\n",
       "max    1.016057e+03"
      ]
     },
     "execution_count": 44,
     "metadata": {},
     "output_type": "execute_result"
    }
   ],
   "source": [
    "pd.DataFrame(grad_all_norms[:,N:].T).describe()"
   ]
  },
  {
   "cell_type": "code",
   "execution_count": null,
   "metadata": {},
   "outputs": [],
   "source": []
  },
  {
   "cell_type": "code",
   "execution_count": 78,
   "metadata": {},
   "outputs": [
    {
     "name": "stdout",
     "output_type": "stream",
     "text": [
      "0.54344375\n"
     ]
    }
   ],
   "source": [
    "auroc = metrics.roc_auc_score(all_mem_lbls[0,:], -1*grad_all_norms[0,:])\n",
    "print(auroc)"
   ]
  },
  {
   "cell_type": "code",
   "execution_count": 46,
   "metadata": {},
   "outputs": [
    {
     "name": "stdout",
     "output_type": "stream",
     "text": [
      "0.5175\n"
     ]
    }
   ],
   "source": [
    "pair_accuracy = 0\n",
    "for i in range(N):\n",
    "    if grad_all_norms[0,i] < grad_all_norms[0,N+i]: pair_accuracy += 1/N\n",
    "print(pair_accuracy)"
   ]
  },
  {
   "cell_type": "code",
   "execution_count": 66,
   "metadata": {},
   "outputs": [],
   "source": [
    "kde_D = stats.gaussian_kde(grad_all_norms[0,:N].T)\n",
    "kde_R = stats.gaussian_kde(grad_all_norms[0,:N].T)"
   ]
  },
  {
   "cell_type": "code",
   "execution_count": 67,
   "metadata": {},
   "outputs": [
    {
     "data": {
      "text/plain": [
       "<matplotlib.legend.Legend at 0x7fa5febcafd0>"
      ]
     },
     "execution_count": 67,
     "metadata": {},
     "output_type": "execute_result"
    },
    {
     "data": {
      "image/png": "[encoded data removed]",
      "text/plain": [
       "<Figure size 360x216 with 1 Axes>"
      ]
     },
     "metadata": {
      "needs_background": "light"
     },
     "output_type": "display_data"
    }
   ],
   "source": [
    "grid = np.linspace(np.min(grad_all_norms), np.max(grad_all_norms), 50)\n",
    "\n",
    "fig, ax = plt.subplots(figsize=(5,3))\n",
    "ax.plot(grid, kde_D(grid), c='r', label = \"D grad norms\")\n",
    "ax.plot(grid, kde_R(grid), c='b', label = \"R grad norms\")\n",
    "\n",
    "plt.legend()"
   ]
  },
  {
   "cell_type": "code",
   "execution_count": 57,
   "metadata": {},
   "outputs": [
    {
     "data": {
      "image/png": "[encoded data removed]",
      "text/plain": [
       "<Figure size 432x288 with 1 Axes>"
      ]
     },
     "metadata": {
      "needs_background": "light"
     },
     "output_type": "display_data"
    }
   ],
   "source": [
    "xylims = np.linspace(min(np.min(grad_all_norms[:,:N].T), np.min(grad_all_norms[:,:N].T)),\n",
    "                     max(np.max(grad_all_norms[:,:N].T), np.max(grad_all_norms[:,:N].T)))\n",
    "\n",
    "fig = plt.figure()\n",
    "ax = plt.gca()\n",
    "ax.scatter(grad_all_norms[:,:N].T,grad_all_norms[:,N:].T, c='b', alpha=0.3)\n",
    "ax.plot(xylims,xylims, c='k', linestyle='--')\n",
    "ax.set_yscale('log')\n",
    "ax.set_xscale('log')"
   ]
  },
  {
   "cell_type": "code",
   "execution_count": 100,
   "metadata": {},
   "outputs": [
    {
     "name": "stdout",
     "output_type": "stream",
     "text": [
      "(800, 800, 3, 3)\n"
     ]
    }
   ],
   "source": [
    "etas = [2e-7,2e-5,2e-3]\n",
    "all_distances = np.zeros((2*N,2*N,3,len(etas)))\n",
    "print(all_distances.shape)"
   ]
  },
  {
   "cell_type": "code",
   "execution_count": 101,
   "metadata": {},
   "outputs": [
    {
     "name": "stdout",
     "output_type": "stream",
     "text": [
      "i = 0\n",
      "i = 80\n",
      "i = 160\n",
      "i = 240\n",
      "i = 320\n",
      "i = 400\n",
      "i = 480\n",
      "i = 560\n",
      "i = 640\n",
      "i = 720\n"
     ]
    }
   ],
   "source": [
    "for i in range(2*N):\n",
    "    for j, eta in enumerate(etas):\n",
    "        W1_i = W1_D + eta*M_D_grad_all[0][i,:,:]\n",
    "        W10_i = W10_D + eta*M_D_grad_all[1][i,:,:]\n",
    "        W2_i = W2_D + eta*M_D_grad_all[2][i,:,:]\n",
    "        W20_i = W20_D + eta*M_D_grad_all[3][i,:,:]\n",
    "        \n",
    "        M_i = model(W1_i,W10_i,W2_i,W20_i)\n",
    "        M_i_XW_all = M_i(all_data)\n",
    "        M_i_yhat_all = softmax(M_i_XW_all)\n",
    "        \n",
    "        # 2norm on predictions\n",
    "        all_distances[i,:,0,j] = np.linalg.norm(M_D_yhat_all - M_i_yhat_all, axis=0)\n",
    "        all_distances[i,:,1,j] = np.linalg.norm(M_D_XW_all - M_i_XW_all, axis=0)\n",
    "        all_distances[i,:,2,j] = cross_ent2(M_D_yhat_all, M_i_XW_all)\n",
    "        \n",
    "    if i % 80 == 0:\n",
    "        print(f\"i = {i}\")"
   ]
  },
  {
   "cell_type": "code",
   "execution_count": 102,
   "metadata": {},
   "outputs": [
    {
     "name": "stdout",
     "output_type": "stream",
     "text": [
      "(800, 3, 3)\n"
     ]
    }
   ],
   "source": [
    "dist_to_Mi_Ui = np.zeros((2*N,3,len(etas)))\n",
    "for i in range(2*N):\n",
    "    dist_to_Mi_Ui[i,:,:] = all_distances[i,i,:,:]\n",
    "print(dist_to_Mi_Ui.shape)"
   ]
  },
  {
   "cell_type": "code",
   "execution_count": 103,
   "metadata": {},
   "outputs": [
    {
     "name": "stdout",
     "output_type": "stream",
     "text": [
      "For distance function 0:\n",
      "\tAUC for eta= 2e-07: 0.553625\n",
      "\tAUC for eta= 2e-05: 0.55345625\n",
      "\tAUC for eta= 2e-03: 0.55286875\n",
      "\n",
      "\n",
      "For distance function 1:\n",
      "\tAUC for eta= 2e-07: 0.5434312499999999\n",
      "\tAUC for eta= 2e-05: 0.543625\n",
      "\tAUC for eta= 2e-03: 0.5436749999999999\n",
      "\n",
      "\n",
      "For distance function 2:\n",
      "\tAUC for eta= 2e-07: 0.5767687499999999\n",
      "\tAUC for eta= 2e-05: 0.57690625\n",
      "\tAUC for eta= 2e-03: 0.5776249999999999\n",
      "\n",
      "\n"
     ]
    }
   ],
   "source": [
    "for i in range(3):\n",
    "    print(f\"For distance function {i}:\")\n",
    "    for j, eta in enumerate(etas):\n",
    "        auc = metrics.roc_auc_score(all_mem_lbls[0,:], -1*dist_to_Mi_Ui[:,i,j])\n",
    "        print(f\"\\tAUC for eta={eta: .0e}: {auc}\")\n",
    "    print(\"\\n\")"
   ]
  },
  {
   "cell_type": "code",
   "execution_count": 104,
   "metadata": {},
   "outputs": [
    {
     "name": "stdout",
     "output_type": "stream",
     "text": [
      "(800, 3, 3)\n"
     ]
    }
   ],
   "source": [
    "dist_to_Mi_all = np.mean(all_distances, axis=1)\n",
    "\n",
    "print(dist_to_Mi_all.shape)"
   ]
  },
  {
   "cell_type": "code",
   "execution_count": 105,
   "metadata": {},
   "outputs": [
    {
     "name": "stdout",
     "output_type": "stream",
     "text": [
      "For distance function 0:\n",
      "\tAUC for eta= 2e-07: 0.5429875\n",
      "\tAUC for eta= 2e-05: 0.5430125\n",
      "\tAUC for eta= 2e-03: 0.5432875\n",
      "\n",
      "\n",
      "For distance function 1:\n",
      "\tAUC for eta= 2e-07: 0.54350625\n",
      "\tAUC for eta= 2e-05: 0.5435249999999999\n",
      "\tAUC for eta= 2e-03: 0.5435625\n",
      "\n",
      "\n",
      "For distance function 2:\n",
      "\tAUC for eta= 2e-07: 0.542975\n",
      "\tAUC for eta= 2e-05: 0.5485968749999999\n",
      "\tAUC for eta= 2e-03: 0.540209375\n",
      "\n",
      "\n"
     ]
    }
   ],
   "source": [
    "for i in range(3):\n",
    "    print(f\"For distance function {i}:\")\n",
    "    for j, eta in enumerate(etas):\n",
    "        auc = metrics.roc_auc_score(all_mem_lbls[0,:], -1*dist_to_Mi_all[:,i,j])\n",
    "        print(f\"\\tAUC for eta={eta: .0e}: {auc}\")\n",
    "    print(\"\\n\")"
   ]
  },
  {
   "cell_type": "code",
   "execution_count": 113,
   "metadata": {},
   "outputs": [
    {
     "data": {
      "text/plain": [
       "Text(0, 0.5, 'Cross Entropy Loss of Prediction on Point')"
      ]
     },
     "execution_count": 113,
     "metadata": {},
     "output_type": "execute_result"
    },
    {
     "data": {
      "image/png": "[encoded data removed]",
      "text/plain": [
       "<Figure size 576x576 with 1 Axes>"
      ]
     },
     "metadata": {
      "needs_background": "light"
     },
     "output_type": "display_data"
    }
   ],
   "source": [
    "xylims = np.linspace(min(np.min(grad_all_norms[0,:]), np.min(dist_to_Mi_Ui[:,2,2])),\n",
    "                     max(np.max(grad_all_norms[0,:]), np.max(dist_to_Mi_Ui[:,2,2])))\n",
    "\n",
    "fig = plt.figure(figsize=(8,8))\n",
    "ax = plt.gca()\n",
    "ax.scatter(grad_all_norms[0,:N], dist_to_Mi_Ui[:N,2,2], c='r', alpha=0.1)\n",
    "ax.scatter(grad_all_norms[0,N:], dist_to_Mi_Ui[N:,2,2], c='b', alpha=0.1)\n",
    "ax.plot(xylims,xylims, c='k', linestyle='--')\n",
    "ax.set_yscale('log')\n",
    "ax.set_xscale('log')\n",
    "ax.set_xlabel(\"Norm of Gradient at Point\", fontsize=14)\n",
    "ax.set_ylabel(\"Cross Entropy Loss of Prediction on Point\", fontsize=14)"
   ]
  },
  {
   "cell_type": "code",
   "execution_count": null,
   "metadata": {},
   "outputs": [],
   "source": []
  },
  {
   "cell_type": "code",
   "execution_count": null,
   "metadata": {},
   "outputs": [],
   "source": []
  },
  {
   "cell_type": "code",
   "execution_count": null,
   "metadata": {},
   "outputs": [],
   "source": []
  },
  {
   "cell_type": "code",
   "execution_count": null,
   "metadata": {},
   "outputs": [],
   "source": []
  },
  {
   "cell_type": "code",
   "execution_count": null,
   "metadata": {},
   "outputs": [],
   "source": []
  }
 ],
 "metadata": {
  "kernelspec": {
   "display_name": "Python [conda env:joe_env]",
   "language": "python",
   "name": "conda-env-joe_env-py"
  },
  "language_info": {
   "codemirror_mode": {
    "name": "ipython",
    "version": 3
   },
   "file_extension": ".py",
   "mimetype": "text/x-python",
   "name": "python",
   "nbconvert_exporter": "python",
   "pygments_lexer": "ipython3",
   "version": "3.8.10"
  }
 },
 "nbformat": 4,
 "nbformat_minor": 2
}
